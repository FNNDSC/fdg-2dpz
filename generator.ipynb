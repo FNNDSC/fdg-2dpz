{
 "cells": [
  {
   "cell_type": "markdown",
   "metadata": {},
   "source": [
    "# Create classes"
   ]
  },
  {
   "cell_type": "code",
   "execution_count": 1,
   "metadata": {},
   "outputs": [],
   "source": [
    "import json\n",
    "import numpy as np\n",
    "import random"
   ]
  },
  {
   "cell_type": "code",
   "execution_count": 2,
   "metadata": {},
   "outputs": [],
   "source": [
    "from IPython.core.debugger import set_trace"
   ]
  },
  {
   "cell_type": "code",
   "execution_count": 3,
   "metadata": {},
   "outputs": [],
   "source": [
    "%config IPCompleter.greedy=True"
   ]
  },
  {
   "cell_type": "code",
   "execution_count": null,
   "metadata": {},
   "outputs": [],
   "source": []
  },
  {
   "cell_type": "code",
   "execution_count": null,
   "metadata": {},
   "outputs": [],
   "source": [
    "# %load mesh.py\n",
    "\n",
    "class Mesh:\n",
    "    \n",
    "    def __init__(self, *args, **kwargs):\n",
    "        \"\"\"\n",
    "        Constructor for Mesh class\n",
    "        \"\"\"\n",
    "        self.spokes  = 2\n",
    "        self.nodes   = 10\n",
    "        self.d_nnode = {}\n",
    "        self.l_nodes = []\n",
    "        \n",
    "        self.d_mesh  = {}\n",
    "        \n",
    "        for k,v in kwargs.items():\n",
    "            if k == 'spokes': self.spokes = v\n",
    "            if k == 'nodes':  self.nodes  = v\n",
    "        \n",
    "        self.l_nodes = list(range(self.nodes))\n",
    "        self.d_nnode = dict(enumerate(self.l_nodes))\n",
    "        \n",
    "        print(self.l_nodes)\n",
    "        print(self.d_nnode)        \n",
    "        \n",
    "    def connect(self, *args, **kwargs):\n",
    "        \"\"\"\n",
    "        Connect each node to a random sample (of size <spoke>)\n",
    "        drawn from list of all nodes.\n",
    "        \"\"\"\n",
    "        for k,v in self.d_nnode.items():\n",
    "            self.d_nnode[k] = random.sample(self.l_nodes, self.spokes)\n",
    "            \n",
    "    def FDGnodelist_build(self, *args, **kwargs):\n",
    "        \"\"\"\n",
    "        Build the list of nodes for the FDG.\n",
    "        \n",
    "        Group ID can be 'uniform', with all values set to <groupID>,\n",
    "        or this can be 'linear', starting with <groupID> and\n",
    "        increasing with <incremenet>. Group ID strings can also\n",
    "        be prepended with an optional <prefix>.\n",
    "        \"\"\"\n",
    "        str_groupSpread = 'uniform'\n",
    "        str_prefix      = ''\n",
    "        groupID         = 1\n",
    "        increment       = 1\n",
    "        for k,v in kwargs.items():\n",
    "            if k == 'groupSpread': str_groupSpread = v\n",
    "            if k == 'groupID':     groupID         = v\n",
    "            if k == 'prefix':      str_prefix      = v\n",
    "            if k == 'increment':   increment       = v\n",
    "\n",
    "        lstr_ID = [str_prefix] * self.nodes\n",
    "        if str_groupSpread == 'uniform':\n",
    "            l_ID = [groupID] * self.nodes\n",
    "        if str_groupSpread == 'increment':\n",
    "            l_ID = list(range(groupID, groupID + self.nodes*increment, increment))\n",
    "            \n",
    "        t_ID     = zip(lstr_ID, l_ID)\n",
    "        l_fullID = ['%s%d' % (s, i) for (s, i) in zip(lstr_ID, l_ID)]\n",
    "        set_trace()\n",
    "        return l_fullID           \n",
    "            "
   ]
  },
  {
   "cell_type": "code",
   "execution_count": null,
   "metadata": {},
   "outputs": [],
   "source": []
  },
  {
   "cell_type": "code",
   "execution_count": null,
   "metadata": {},
   "outputs": [],
   "source": []
  },
  {
   "cell_type": "code",
   "execution_count": null,
   "metadata": {},
   "outputs": [],
   "source": []
  },
  {
   "cell_type": "code",
   "execution_count": null,
   "metadata": {},
   "outputs": [],
   "source": []
  },
  {
   "cell_type": "code",
   "execution_count": 5,
   "metadata": {},
   "outputs": [
    {
     "name": "stdout",
     "output_type": "stream",
     "text": [
      "[0, 1, 2, 3, 4, 5, 6, 7, 8, 9]\n",
      "{0: 0, 1: 1, 2: 2, 3: 3, 4: 4, 5: 5, 6: 6, 7: 7, 8: 8, 9: 9}\n"
     ]
    }
   ],
   "source": [
    "M = Mesh(spokes = 2, nodes = 10)"
   ]
  },
  {
   "cell_type": "code",
   "execution_count": null,
   "metadata": {},
   "outputs": [],
   "source": []
  },
  {
   "cell_type": "code",
   "execution_count": null,
   "metadata": {},
   "outputs": [],
   "source": []
  },
  {
   "cell_type": "code",
   "execution_count": null,
   "metadata": {},
   "outputs": [],
   "source": []
  },
  {
   "cell_type": "code",
   "execution_count": 6,
   "metadata": {},
   "outputs": [],
   "source": [
    "M.connect()"
   ]
  },
  {
   "cell_type": "code",
   "execution_count": 7,
   "metadata": {},
   "outputs": [
    {
     "data": {
      "text/plain": [
       "{0: [2, 9],\n",
       " 1: [1, 0],\n",
       " 2: [6, 7],\n",
       " 3: [6, 5],\n",
       " 4: [1, 5],\n",
       " 5: [9, 8],\n",
       " 6: [4, 2],\n",
       " 7: [6, 4],\n",
       " 8: [8, 6],\n",
       " 9: [1, 7]}"
      ]
     },
     "execution_count": 7,
     "metadata": {},
     "output_type": "execute_result"
    }
   ],
   "source": [
    "M.d_nnode"
   ]
  },
  {
   "cell_type": "code",
   "execution_count": 11,
   "metadata": {},
   "outputs": [
    {
     "name": "stdout",
     "output_type": "stream",
     "text": [
      "> \u001b[0;32m<ipython-input-4-bbc336da089e>\u001b[0m(60)\u001b[0;36mFDGnodelist_build\u001b[0;34m()\u001b[0m\n",
      "\u001b[0;32m     57 \u001b[0;31m        \u001b[0mt_ID\u001b[0m     \u001b[0;34m=\u001b[0m \u001b[0mzip\u001b[0m\u001b[0;34m(\u001b[0m\u001b[0mlstr_ID\u001b[0m\u001b[0;34m,\u001b[0m \u001b[0ml_ID\u001b[0m\u001b[0;34m)\u001b[0m\u001b[0;34m\u001b[0m\u001b[0m\n",
      "\u001b[0m\u001b[0;32m     58 \u001b[0;31m        \u001b[0ml_fullID\u001b[0m \u001b[0;34m=\u001b[0m \u001b[0;34m[\u001b[0m\u001b[0;34m'%s-%d'\u001b[0m \u001b[0;34m%\u001b[0m \u001b[0;34m(\u001b[0m\u001b[0ms\u001b[0m\u001b[0;34m,\u001b[0m \u001b[0mi\u001b[0m\u001b[0;34m)\u001b[0m \u001b[0;32mfor\u001b[0m \u001b[0;34m(\u001b[0m\u001b[0ms\u001b[0m\u001b[0;34m,\u001b[0m \u001b[0mi\u001b[0m\u001b[0;34m)\u001b[0m \u001b[0;32min\u001b[0m \u001b[0mzip\u001b[0m\u001b[0;34m(\u001b[0m\u001b[0mlstr_ID\u001b[0m\u001b[0;34m,\u001b[0m \u001b[0ml_ID\u001b[0m\u001b[0;34m)\u001b[0m\u001b[0;34m]\u001b[0m\u001b[0;34m\u001b[0m\u001b[0m\n",
      "\u001b[0m\u001b[0;32m     59 \u001b[0;31m        \u001b[0mset_trace\u001b[0m\u001b[0;34m(\u001b[0m\u001b[0;34m)\u001b[0m\u001b[0;34m\u001b[0m\u001b[0m\n",
      "\u001b[0m\u001b[0;32m---> 60 \u001b[0;31m        \u001b[0;32mreturn\u001b[0m \u001b[0ml_fullID\u001b[0m\u001b[0;34m\u001b[0m\u001b[0m\n",
      "\u001b[0m\u001b[0;32m     61 \u001b[0;31m\u001b[0;34m\u001b[0m\u001b[0m\n",
      "\u001b[0m\n",
      "ipdb> c\n"
     ]
    },
    {
     "data": {
      "text/plain": [
       "['group-1',\n",
       " 'group-3',\n",
       " 'group-5',\n",
       " 'group-7',\n",
       " 'group-9',\n",
       " 'group-11',\n",
       " 'group-13',\n",
       " 'group-15',\n",
       " 'group-17',\n",
       " 'group-19']"
      ]
     },
     "execution_count": 11,
     "metadata": {},
     "output_type": "execute_result"
    }
   ],
   "source": [
    "M.FDGnodelist_build(prefix='group', groupSpread = 'increment', increment=2)"
   ]
  },
  {
   "cell_type": "code",
   "execution_count": 8,
   "metadata": {},
   "outputs": [
    {
     "data": {
      "text/plain": [
       "['tt', 'tt', 'tt', 'tt']"
      ]
     },
     "execution_count": 8,
     "metadata": {},
     "output_type": "execute_result"
    }
   ],
   "source": [
    "['tt'] * 4"
   ]
  },
  {
   "cell_type": "code",
   "execution_count": null,
   "metadata": {},
   "outputs": [],
   "source": []
  },
  {
   "cell_type": "code",
   "execution_count": null,
   "metadata": {},
   "outputs": [],
   "source": []
  },
  {
   "cell_type": "code",
   "execution_count": null,
   "metadata": {},
   "outputs": [],
   "source": []
  },
  {
   "cell_type": "code",
   "execution_count": 115,
   "metadata": {},
   "outputs": [],
   "source": [
    "l_nodesCloudHeterogeneous = []\n",
    "l_linksCloudHeterogeneous = []\n",
    "l_nodesCloudHomogeneous   = []\n",
    "l_linksCloudHomogeneous   = []\n",
    "cloudNodes                = 300\n",
    "edgeNodes                 = 30\n",
    "linkToEdgeNodes           = 10\n",
    "d_graphDisconnected       = {}\n",
    "d_graphCentralServer      = {}\n",
    "d_graphCloudHomogeneous   = {}\n",
    "d_graphEdge               = {}\n",
    "d_graphFog                = {}"
   ]
  },
  {
   "cell_type": "code",
   "execution_count": 116,
   "metadata": {},
   "outputs": [],
   "source": [
    "for i in range(1, cloudNodes):\n",
    "    l_nodesCloudHeterogeneous.append({\"id\": \"pc%d\" % i, \"group\": i})\n",
    "    l_nodesCloudHeterogeneous.append({\"id\": \"human%d\" % i, \"group\": i})\n",
    "    l_linksCloudHeterogeneous.append({\"source\": \"pc%d\" % i, \"target\": \"human%d\" % i, \"value\": 10})"
   ]
  },
  {
   "cell_type": "code",
   "execution_count": 117,
   "metadata": {},
   "outputs": [],
   "source": [
    "d_graphDisconnected = {\n",
    "    \"nodes\": l_nodesCloudHeterogeneous,\n",
    "    \"links\": l_linksCloudHeterogeneous\n",
    "}\n",
    "with open('pcss.json', 'w') as f:\n",
    "    json.dump(d_graphDisconnected, f, sort_keys=True, indent=4)"
   ]
  },
  {
   "cell_type": "markdown",
   "metadata": {},
   "source": [
    "# Create a central server"
   ]
  },
  {
   "cell_type": "code",
   "execution_count": 118,
   "metadata": {},
   "outputs": [],
   "source": [
    "l_nodesCloudHeterogeneous.append({\"id\": \"server1\", \"group\": 200})"
   ]
  },
  {
   "cell_type": "code",
   "execution_count": 119,
   "metadata": {},
   "outputs": [],
   "source": [
    "for i in range(1, cloudNodes):\n",
    "    l_linksCloudHeterogeneous.append({\"source\": \"pc%d\" % i, \"target\": \"server1\", \"value\": 1})"
   ]
  },
  {
   "cell_type": "code",
   "execution_count": 120,
   "metadata": {},
   "outputs": [],
   "source": [
    "d_graphCentralServer = {\n",
    "    \"nodes\": l_nodesCloudHeterogeneous,\n",
    "    \"links\": l_linksCloudHeterogeneous\n",
    "}\n",
    "with open('pcss-net.json', 'w') as f:\n",
    "    json.dump(d_graphCentralServer, f, sort_keys=True, indent=4)"
   ]
  },
  {
   "cell_type": "markdown",
   "metadata": {},
   "source": [
    "# Create a \"cloud\" topology"
   ]
  },
  {
   "cell_type": "markdown",
   "metadata": {},
   "source": [
    "# First create the node and links out from the cloud to the edge"
   ]
  },
  {
   "cell_type": "code",
   "execution_count": 121,
   "metadata": {},
   "outputs": [],
   "source": [
    "# Create a homogeneous cloud\n",
    "l_nodesCloudHomogeneous.append({\"id\": \"headnode\", \"group\": 100})\n",
    "for i in range(1, cloudNodes):\n",
    "    l_nodesCloudHomogeneous.append({\"id\": \"node%d\" %i, \"group\": 1})\n",
    "    l_linksCloudHomogeneous.append({\"source\": \"node%d\" % i, \"target\": \"headnode\", \"value\": 1})"
   ]
  },
  {
   "cell_type": "code",
   "execution_count": 122,
   "metadata": {},
   "outputs": [],
   "source": [
    "# Create the nodes out of the cloud\n",
    "for i in range(1, linkToEdgeNodes):\n",
    "    l_nodesCloudHomogeneous.append({\"id\": \"link%d\" % i, \"group\": cloudNodes})\n",
    "l_nodesCloudHomogeneous.append({\"id\": \"client\", \"group\": 400})"
   ]
  },
  {
   "cell_type": "code",
   "execution_count": 123,
   "metadata": {},
   "outputs": [],
   "source": [
    "# Link the nodes to create a chain out of the cloud\n",
    "for i in range(1, linkToEdgeNodes-1):\n",
    "    l_linksCloudHomogeneous.append({\"source\": \"link%d\" % i, \"target\": \"link%s\" % str(i+1)})\n",
    "l_linksCloudHomogeneous.append({\"source\": \"link1\", \"target\": \"headnode\", \"value\": 1})\n",
    "l_linksCloudHomogeneous.append({\"source\": \"link%s\" % str(linkToEdgeNodes-1), \"target\": \"client\", \"value\": 1})"
   ]
  },
  {
   "cell_type": "code",
   "execution_count": 124,
   "metadata": {},
   "outputs": [],
   "source": [
    "d_graphCloudHomogeneous = {\n",
    "    \"nodes\": l_nodesCloudHomogeneous,\n",
    "    \"links\": l_linksCloudHomogeneous\n",
    "}\n",
    "with open('cloud.json', 'w') as f:\n",
    "    json.dump(d_graphCloudHomogeneous, f, sort_keys=True, indent=4)"
   ]
  },
  {
   "cell_type": "markdown",
   "metadata": {},
   "source": [
    "# Create another cloud for the \"edge\" computing"
   ]
  },
  {
   "cell_type": "code",
   "execution_count": 125,
   "metadata": {},
   "outputs": [],
   "source": [
    "for i in range(1, edgeNodes):\n",
    "    l_nodesCloudHomogeneous.append({\"id\": \"edgeNode%d\" % i, \"group\": 2})\n",
    "    l_linksCloudHomogeneous.append({\"source\": \"edgeNode%d\" %i, \"target\": \"link%s\" % str(linkToEdgeNodes-1), \"value\": 1})"
   ]
  },
  {
   "cell_type": "code",
   "execution_count": 126,
   "metadata": {},
   "outputs": [],
   "source": [
    "d_graphEdge = {\n",
    "    \"nodes\": l_nodesCloudHomogeneous,\n",
    "    \"links\": l_linksCloudHomogeneous\n",
    "}\n",
    "with open('edge.json', 'w') as f:\n",
    "    json.dump(d_graphEdge, f, sort_keys=True, indent=4)"
   ]
  },
  {
   "cell_type": "markdown",
   "metadata": {},
   "source": [
    "# Fog computing"
   ]
  },
  {
   "cell_type": "code",
   "execution_count": 130,
   "metadata": {},
   "outputs": [],
   "source": [
    "for i in range(1, edgeNodes):\n",
    "    l_nodesCloudHomogeneous.append({\"id\": \"fogNode3.%d\" %i, \"group\": 3})\n",
    "    l_linksCloudHomogeneous.append({\"source\": \"fogNode3.%d\" %i, \"target\": \"link3\", \"value\": 1})\n",
    "    l_nodesCloudHomogeneous.append({\"id\": \"fogNode6.%d\" %i, \"group\": 4})\n",
    "    l_linksCloudHomogeneous.append({\"source\": \"fogNode6.%d\" %i, \"target\": \"link6\", \"value\": 1})"
   ]
  },
  {
   "cell_type": "code",
   "execution_count": 131,
   "metadata": {},
   "outputs": [],
   "source": [
    "d_graphFog = {\n",
    "    \"nodes\": l_nodesCloudHomogeneous,\n",
    "    \"links\": l_linksCloudHomogeneous\n",
    "}\n",
    "with open('fog.json', 'w') as f:\n",
    "    json.dump(d_graphFog, f, sort_keys=True, indent=4)"
   ]
  },
  {
   "cell_type": "code",
   "execution_count": null,
   "metadata": {},
   "outputs": [],
   "source": []
  }
 ],
 "metadata": {
  "kernelspec": {
   "display_name": "Python 3",
   "language": "python",
   "name": "python3"
  },
  "language_info": {
   "codemirror_mode": {
    "name": "ipython",
    "version": 3
   },
   "file_extension": ".py",
   "mimetype": "text/x-python",
   "name": "python",
   "nbconvert_exporter": "python",
   "pygments_lexer": "ipython3",
   "version": "3.6.4"
  }
 },
 "nbformat": 4,
 "nbformat_minor": 2
}
